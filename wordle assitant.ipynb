{
 "cells": [
  {
   "cell_type": "code",
   "execution_count": 1,
   "id": "dc69302e",
   "metadata": {},
   "outputs": [],
   "source": [
    "import pandas as pd\n",
    "import numpy as np\n",
    "import itertools\n",
    "import math\n"
   ]
  },
  {
   "cell_type": "code",
   "execution_count": 2,
   "id": "b79a2905",
   "metadata": {},
   "outputs": [],
   "source": [
    "#this function filter the list and remove element on the basis of input it takes one letter input only\n",
    "def letter(x,y,z,lst):\n",
    "    if(y=='g'):\n",
    "        return list(filter(lambda word: x  in word[z],lst))\n",
    "    elif(  y=='y'):\n",
    "        return list(filter(lambda word: x in word and x not in word[z],lst))\n",
    "    elif(y=='x'):\n",
    "        return list(filter(lambda word: x not in word,lst))"
   ]
  },
  {
   "cell_type": "code",
   "execution_count": 3,
   "id": "5d65009c",
   "metadata": {},
   "outputs": [],
   "source": [
    "#this function take word as the input return all possible answer list\n",
    "def words(x,y,lst):\n",
    "    lst=letter(x[0],y[0],0,lst)\n",
    "    lst=letter(x[1],y[1],1,lst)\n",
    "    lst=letter(x[2],y[2],2,lst)\n",
    "    lst=letter(x[3],y[3],3,lst)\n",
    "    return letter(x[4],y[4],4,lst)\n",
    "    "
   ]
  },
  {
   "cell_type": "code",
   "execution_count": 4,
   "id": "a39ccaa9",
   "metadata": {},
   "outputs": [],
   "source": [
    "#this function recursivley store all pattern of x,y,g of lenght 5 \n",
    "def printAllKLength(set, k):\n",
    "\tn = len(set)\n",
    "\tprintAllKLengthRec(set, \"\", n, k)\n",
    "\n",
    "def printAllKLengthRec(set, prefix, n, k):\n",
    "\tif (k == 0) :\n",
    "\t\tlst1.append(prefix)\n",
    "\t\treturn\n",
    "\tfor i in range(n):\n",
    "\t\tnewPrefix = prefix + set[i]\n",
    "\t\tprintAllKLengthRec(set, newPrefix, n, k - 1)"
   ]
  },
  {
   "cell_type": "code",
   "execution_count": 5,
   "id": "5ed5cc1b",
   "metadata": {},
   "outputs": [],
   "source": [
    "lst1=[]\n",
    "set1 = ['x', 'y','g']\n",
    "k = 5\n",
    "printAllKLength(set1, k)\n",
    "#list 1 will contain all permutation of x,y,g of length 5"
   ]
  },
  {
   "cell_type": "code",
   "execution_count": 6,
   "id": "9618b5f2",
   "metadata": {},
   "outputs": [],
   "source": [
    "#this function calculate the score of one word present in the list based on information theory\n",
    "def expexted_score_of_word(word,lst):\n",
    "    lst2=[]\n",
    "    for i in range(len(lst1)):\n",
    "        lst2.append(len(words(word,lst1[i],lst)))\n",
    "    s=0\n",
    "    for i in range(len(lst2)):\n",
    "        if(lst2[i]!=0):\n",
    "            s = s + ((lst2[i])*(-math.log(lst2[i]/len(lst),2))/len(lst))\n",
    "    return s\n",
    "#lst2 contain the number of possiblity after a each input and this function returns score of each word based on the list of possiblity "
   ]
  },
  {
   "cell_type": "code",
   "execution_count": 7,
   "id": "0c33327e",
   "metadata": {},
   "outputs": [],
   "source": [
    "#when ran iterativley all words in list got a score\n",
    "def lst_of_words_and_scores(lst):\n",
    "    lst3=[]\n",
    "    for i in range(len(lst)):\n",
    "        lst3.append(expexted_score_of_word(lst[i],lst))\n",
    "    return lst3\n",
    "#lst 3 contain all the socres of word"
   ]
  },
  {
   "cell_type": "code",
   "execution_count": 8,
   "id": "860e360d",
   "metadata": {},
   "outputs": [],
   "source": [
    "#now our list contain list of all words\n",
    "lst=[]\n",
    "fhand = open('words_len5.txt')\n",
    "for line in fhand:\n",
    "    lst.append(line.strip())\n",
    "fhand.close()"
   ]
  },
  {
   "cell_type": "code",
   "execution_count": 9,
   "id": "640d50b5",
   "metadata": {},
   "outputs": [],
   "source": [
    "lst=words('todal','gxxgg',lst)"
   ]
  },
  {
   "cell_type": "code",
   "execution_count": 10,
   "id": "9f76134a",
   "metadata": {},
   "outputs": [],
   "source": [
    "res = dict(zip(lst, lst_of_words_and_scores(lst)))"
   ]
  },
  {
   "cell_type": "code",
   "execution_count": 11,
   "id": "e1210efb",
   "metadata": {},
   "outputs": [
    {
     "name": "stdout",
     "output_type": "stream",
     "text": [
      "[('tagal', 1.061278124459133), ('tamal', 1.061278124459133), ('tepal', 1.061278124459133), ('tical', 1.061278124459133), ('trial', 1.061278124459133), ('tubal', 1.061278124459133), ('tunal', 1.061278124459133), ('typal', 1.061278124459133)]\n"
     ]
    }
   ],
   "source": [
    "print(sorted(res.items(), key =lambda kv:(kv[1], kv[0])))"
   ]
  },
  {
   "cell_type": "code",
   "execution_count": null,
   "id": "f3b0d7bf",
   "metadata": {},
   "outputs": [],
   "source": [
    "#all letters in list in order of frequency\n",
    "all_freq = {}\n",
    "for j in range(len(lst)):  \n",
    "    for i in lst[j]:\n",
    "        if i in all_freq:\n",
    "            all_freq[i] += 1\n",
    "        else:\n",
    "            all_freq[i] = 1\n",
    "print(sorted(all_freq.items(), key =lambda kv:(kv[1], kv[0])))"
   ]
  }
 ],
 "metadata": {
  "kernelspec": {
   "display_name": "Python 3",
   "language": "python",
   "name": "python3"
  },
  "language_info": {
   "codemirror_mode": {
    "name": "ipython",
    "version": 3
   },
   "file_extension": ".py",
   "mimetype": "text/x-python",
   "name": "python",
   "nbconvert_exporter": "python",
   "pygments_lexer": "ipython3",
   "version": "3.8.8"
  }
 },
 "nbformat": 4,
 "nbformat_minor": 5
}
