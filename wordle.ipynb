{
 "cells": [
  {
   "cell_type": "code",
   "execution_count": 1,
   "id": "dc69302e",
   "metadata": {},
   "outputs": [],
   "source": [
    "import pandas as pd\n",
    "import numpy as np\n",
    "import itertools\n",
    "import math\n"
   ]
  },
  {
   "cell_type": "code",
   "execution_count": 55,
   "id": "f3b0d7bf",
   "metadata": {},
   "outputs": [
    {
     "name": "stdout",
     "output_type": "stream",
     "text": [
      "[('v', 1), ('y', 1), ('f', 2), ('g', 2), ('k', 2), ('m', 2), ('z', 2), ('b', 3), ('a', 8), ('e', 8), ('l', 9)]\n"
     ]
    }
   ],
   "source": [
    "all_freq = {}\n",
    "for j in range(len(lst)):  \n",
    "    for i in lst[j]:\n",
    "        if i in all_freq:\n",
    "            all_freq[i] += 1\n",
    "        else:\n",
    "            all_freq[i] = 1\n",
    "print(sorted(all_freq.items(), key =lambda kv:(kv[1], kv[0])))"
   ]
  },
  {
   "cell_type": "code",
   "execution_count": 4,
   "id": "f5477d56",
   "metadata": {},
   "outputs": [
    {
     "name": "stdout",
     "output_type": "stream",
     "text": [
      "('a', 8392) ('b', 2089) ('c', 2744) ('d', 2811) ('e', 7800) ('f', 1238) ('g', 1971) ('h', 2284) ('i', 5067) ('j', 376) ('k', 1743) ('l', 4246) ('m', 2494) ('n', 4043) ('o', 5219) ('p', 2299) ('q', 139) ('r', 5143) ('s', 6537) ('t', 4189) ('u', 3361) ('v', 878) ('w', 1171) ('x', 361) ('y', 2521) ('z', 474) "
     ]
    }
   ],
   "source": [
    "for i in sorted(all_freq):\n",
    "    print ((i, all_freq[i]), end =\" \")"
   ]
  },
  {
   "cell_type": "code",
   "execution_count": 5,
   "id": "b79a2905",
   "metadata": {},
   "outputs": [],
   "source": [
    "def letter(x,y,z,lst):\n",
    "    if(y=='g'):\n",
    "        return list(filter(lambda word: x  in word[z],lst))\n",
    "    elif(  y=='y'):\n",
    "        return list(filter(lambda word: x in word,lst))\n",
    "    elif(y=='x'):\n",
    "        return list(filter(lambda word: x not in word,lst))"
   ]
  },
  {
   "cell_type": "code",
   "execution_count": 6,
   "id": "5d65009c",
   "metadata": {},
   "outputs": [],
   "source": [
    "def words(x,y,lst):\n",
    "    lst=letter(x[0],y[0],0,lst)\n",
    "    lst=letter(x[1],y[1],1,lst)\n",
    "    lst=letter(x[2],y[2],2,lst)\n",
    "    lst=letter(x[3],y[3],3,lst)\n",
    "    return letter(x[4],y[4],4,lst)\n",
    "    "
   ]
  },
  {
   "cell_type": "code",
   "execution_count": 7,
   "id": "a39ccaa9",
   "metadata": {},
   "outputs": [],
   "source": [
    "def printAllKLength(set, k):\n",
    "\tn = len(set)\n",
    "\tprintAllKLengthRec(set, \"\", n, k)\n",
    "\n",
    "def printAllKLengthRec(set, prefix, n, k):\n",
    "\tif (k == 0) :\n",
    "\t\tlst1.append(prefix)\n",
    "\t\treturn\n",
    "\tfor i in range(n):\n",
    "\t\tnewPrefix = prefix + set[i]\n",
    "\t\tprintAllKLengthRec(set, newPrefix, n, k - 1)"
   ]
  },
  {
   "cell_type": "code",
   "execution_count": 8,
   "id": "5ed5cc1b",
   "metadata": {},
   "outputs": [],
   "source": [
    "lst1=[]\n",
    "set1 = ['x', 'y','g']\n",
    "k = 5\n",
    "printAllKLength(set1, k)"
   ]
  },
  {
   "cell_type": "code",
   "execution_count": 9,
   "id": "9618b5f2",
   "metadata": {},
   "outputs": [],
   "source": [
    "def expexted_score_of_word(word,lst):\n",
    "    lst2=[]\n",
    "    for i in range(len(lst1)):\n",
    "        lst2.append(len(words(word,lst1[i],lst)))\n",
    "    s=0\n",
    "    for i in range(len(lst2)):\n",
    "        if(lst2[i]!=0):\n",
    "            s = s + ((lst2[i])*(-math.log(lst2[i]/len(lst),2))/len(lst))\n",
    "    return s"
   ]
  },
  {
   "cell_type": "code",
   "execution_count": 10,
   "id": "1c3dac69",
   "metadata": {},
   "outputs": [],
   "source": [
    "def actual_info_revealed(word,res,lst):\n",
    "    lst2=[]\n",
    "    for i in range(len(lst1)):\n",
    "        lst2.append(len(words(word,lst1[i],lst)))\n",
    "    for i in range(len(lst1)):\n",
    "        if(res==lst1[i]):\n",
    "            break\n",
    "    print(-math.log(lst2[i]/len(lst),2))"
   ]
  },
  {
   "cell_type": "code",
   "execution_count": 11,
   "id": "0c33327e",
   "metadata": {},
   "outputs": [],
   "source": [
    "def lst_of_words_and_scores(lst):\n",
    "    lst3=[]\n",
    "    for i in range(len(lst)):\n",
    "        lst3.append(expexted_score_of_word(lst[i],lst))\n",
    "    return lst3"
   ]
  },
  {
   "cell_type": "code",
   "execution_count": 162,
   "id": "aff09461",
   "metadata": {},
   "outputs": [
    {
     "data": {
      "text/plain": [
       "['bearm', 'kearn', 'learn', 'pearl', 'rearm']"
      ]
     },
     "execution_count": 162,
     "metadata": {},
     "output_type": "execute_result"
    }
   ],
   "source": [
    "lst"
   ]
  },
  {
   "cell_type": "code",
   "execution_count": null,
   "id": "562d3109",
   "metadata": {},
   "outputs": [],
   "source": []
  },
  {
   "cell_type": "code",
   "execution_count": 49,
   "id": "860e360d",
   "metadata": {},
   "outputs": [
    {
     "name": "stdout",
     "output_type": "stream",
     "text": [
      "<_io.TextIOWrapper name='words_len5.txt' mode='r' encoding='cp1252'>\n"
     ]
    }
   ],
   "source": [
    "lst=[]\n",
    "fhand = open('words_len5.txt')\n",
    "print(fhand)\n",
    "for line in fhand:\n",
    "    lst.append(line.strip())\n",
    "fhand.close()\n",
    "org_lst=lst"
   ]
  },
  {
   "cell_type": "code",
   "execution_count": 56,
   "id": "640d50b5",
   "metadata": {},
   "outputs": [],
   "source": [
    "lst=words('blame','gggxg',lst)"
   ]
  },
  {
   "cell_type": "code",
   "execution_count": 57,
   "id": "9f76134a",
   "metadata": {},
   "outputs": [],
   "source": [
    "res = dict(zip(lst, lst_of_words_and_scores(lst)))"
   ]
  },
  {
   "cell_type": "code",
   "execution_count": 58,
   "id": "e1210efb",
   "metadata": {},
   "outputs": [
    {
     "name": "stdout",
     "output_type": "stream",
     "text": [
      "[('blake', 24.0), ('blaze', 24.0)]\n"
     ]
    }
   ],
   "source": [
    "print(sorted(res.items(), key =lambda kv:(kv[1], kv[0])))"
   ]
  },
  {
   "cell_type": "code",
   "execution_count": 45,
   "id": "c4c6b77c",
   "metadata": {},
   "outputs": [
    {
     "data": {
      "text/plain": [
       "['cadge', 'cadgy', 'caged', 'comdg']"
      ]
     },
     "execution_count": 45,
     "metadata": {},
     "output_type": "execute_result"
    }
   ],
   "source": [
    "lst"
   ]
  },
  {
   "cell_type": "code",
   "execution_count": null,
   "id": "184395c0",
   "metadata": {},
   "outputs": [],
   "source": []
  }
 ],
 "metadata": {
  "kernelspec": {
   "display_name": "Python 3",
   "language": "python",
   "name": "python3"
  },
  "language_info": {
   "codemirror_mode": {
    "name": "ipython",
    "version": 3
   },
   "file_extension": ".py",
   "mimetype": "text/x-python",
   "name": "python",
   "nbconvert_exporter": "python",
   "pygments_lexer": "ipython3",
   "version": "3.8.8"
  }
 },
 "nbformat": 4,
 "nbformat_minor": 5
}
